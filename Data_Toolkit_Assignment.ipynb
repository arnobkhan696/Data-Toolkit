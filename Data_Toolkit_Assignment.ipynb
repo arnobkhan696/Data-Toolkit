{
  "nbformat": 4,
  "nbformat_minor": 0,
  "metadata": {
    "colab": {
      "provenance": []
    },
    "kernelspec": {
      "name": "python3",
      "display_name": "Python 3"
    },
    "language_info": {
      "name": "python"
    }
  },
  "cells": [
    {
      "cell_type": "markdown",
      "source": [
        "#DATA TOOLKIT"
      ],
      "metadata": {
        "id": "5tVruM7cE7df"
      }
    },
    {
      "cell_type": "markdown",
      "source": [
        "THEORY :\n",
        "\n",
        "1. What is NumPy, and why is it widely used in Python?\n",
        "  - NumPy is a fundamental Python library used for numerical computing, providing efficient tools for working with multi-dimensional arrays and matrices. It's used in Python for its speed, efficiency, and ability to perform complex mathematical operations on large datasets\n",
        "2. How does broadcasting work in NumPy?\n",
        "  - In NumPy, broadcasting is a powerful mechanism that allows NumPy to perform element-wise operations on arrays of different shapes and sizes without explicitly copying data. It follows a set of rules to make arrays compatible for arithmetic operations (like addition, subtraction, multiplication, etc.).\n",
        "3. What is a Pandas DataFrame?\n",
        "  - pandas DataFrame is a way to represent and work with tabular data.\n",
        "4. Explain the use of the groupby() method in Pandas.\n",
        "  - The groupby() method in Pandas is used to split data into groups based on some criteria, and then apply operations to each group independently. It's a very powerful tool for data aggregation, transformation, and analysis.\n",
        "5. Why is Seaborn preferred for statistical visualizations?\n",
        "  - i) High-Level Interface for Drawing Attractive and Informative Graphics.\n",
        "  - ii) Built-in Support for Statistical Plotting.\n",
        "  - iii) Integrated with Pandas DataFrames.\n",
        "  - iv) Automatic Estimation and Plotting of Statistical Aggregates.\n",
        "  - v) Enhanced Aesthetics and Style Control.\n",
        "  - vi) Facilitates Multivariate Visualization.\n",
        "  - vii) Extensibility and Compatibility.\n",
        "6. What are the differences between NumPy arrays and Python lists?\n",
        "  - Performance and Speed :\n",
        "  - i) Python Lists: Are slower because each element is a separate Python object with metadata.\n",
        "  - ii) NumPy Arrays: Are faster and more memory-efficient due to contiguous memory allocation and lower-level optimizations (implemented in C).\n",
        "  - Functionality :\n",
        "  - i) Python Lists: Provide basic operations like appending, removing, and slicing.\n",
        "  - ii) NumPy Arrays: Offer a wide range of mathematical and statistical operations (e.g., vectorized operations, broadcasting, matrix multiplication) that are not natively supported by lists.\n",
        "7. What is a heatmap, and when should it be used?\n",
        "  - In Python, a heatmap is a type of data visualization that uses color to represent values within a matrix or a 2D grid. It's a way to visually display complex data, highlight patterns, correlations, and outliers, and is particularly useful for large datasets or matrices.\n",
        "8. What does the term “vectorized operation” mean in NumPy?\n",
        "  - A vectorized operation in NumPy refers to performing operations on entire arrays (vectors, matrices, etc.) without using explicit loops. These operations are applied element-wise and are implemented in highly optimized compiled code (C/C++), making them much faster and more efficient than standard Python loops.\n",
        "9. How does Matplotlib differ from Plotly?\n",
        "  - Matplotlib:\n",
        "  - i)Focuses on static 2D plots (line, bar, scatter, histogram, etc.).\n",
        "  - ii) Basic 3D support via mpl_toolkits.mplot3d, but limited.  \n",
        "  - iii) Low-level and highly customizable, but can be more verbose and requires more code for complex plots.\n",
        "  - Ploty:\n",
        "  - i) Excels in interactive and web-based plots.\n",
        "  - ii)Offers rich 3D visualization, animations, and interactivity (hover, zoom, drag).\n",
        "  - iii) Higher-level syntax with easy-to-use functions for complex and beautiful visualizations quickly.\n",
        "10. What is the significance of hierarchical indexing in Pandas?\n",
        "   - Hierarchical indexing (also called MultiIndexing) in Pandas allows you to have multiple levels of index on rows or columns. It’s a way to organize and work with higher-dimensional data in a 2D DataFrame.\n",
        "11. What is the role of Seaborn’s pairplot() function?\n",
        "   - Seaborn's pairplot() function creates a grid of pairwise relationships in a dataset, essentially visualizing the relationships between all numeric variables.\n",
        "12. What is the purpose of the describe() function in Pandas?\n",
        "   - The purpose of the describe() function in Pandas is to generate descriptive statistics for a given Pandas DataFrame or Series. It provides a concise summary of the data, including measures of central tendency (mean, median), dispersion (standard deviation, quartiles), and shape (minimum, maximum, percentiles).\n",
        "13. Why is handling missing data important in Pandas?\n",
        "  - Handling missing data in Pandas is crucial because it can significantly impact data analysis and machine learning model accuracy.\n",
        "14. What are the benefits of using Plotly for data visualization?\n",
        "   - It allows you to display data in a way that's easy to explore and understand, such as by zooming in, hovering over data points for more details, and clicking to get deeper insights Plotly uses JavaScript to handle interactivity, but you don't need to worry about that when using it in Python.\n",
        "15. How does NumPy handle multidimensional arrays?\n",
        "   - To create a multi-dimensional array using NumPy, we can use the np. array() function and pass in a nested list of values as an argument.\n",
        "16. What is the role of Bokeh in data visualization?\n",
        "   - Bokeh is a Python library that enables users to create interactive visualizations for web browsers, ranging from basic plots to complex dashboards.\n",
        "17. Explain the difference between apply() and map() in Pandas?\n",
        "   - map() Function:\n",
        "  - i) The map() function is used only with Pandas Series (i.e., a single column or row).\n",
        "\n",
        "  - ii) It applies a function element-wise to each value in the Series.\n",
        "\n",
        "  - iii) Mainly used for simple transformations like modifying values or mapping values from one form to another.\n",
        "\n",
        "  - iv) It can take a function, dictionary, or Series as input for mapping.\n",
        "  - apply() Function:\n",
        "  - i) The apply() function works with both Series and DataFrames.\n",
        "\n",
        "  - ii) For a Series, it behaves similarly to map(), applying a function to each element.\n",
        "\n",
        "  - iii) For a DataFrame, apply() can be used to apply a function along either rows or columns (using the axis parameter).\n",
        "\n",
        "  - iv) Suitable for more complex operations, such as applying a function to multiple columns at once.\n",
        "18. What are some advanced features of NumPy?\n",
        "   - Broadcasting, array manipulation (including reshaping, stacking, and splitting), universal functions (ufuncs), fancy indexing, linear algebra operations, and random number generation.\n",
        "19. How does Pandas simplify time series analysis?\n",
        "   - The DatetimeIndex makes performing most operations in Pandas very simple, as it allows you to index, slice, and resample data based on the date and time.\n",
        "20. What is the role of a pivot table in Pandas?\n",
        "   - It allows you to restructure a DataFrame by turning rows into columns and columns into rows based on a specified index column, a specified columns column, and a specified values column.\n",
        "21. Why is NumPy’s array slicing faster than Python’s list slicing?\n",
        "   - because they store elements of the same data type in contiguous memory locations.\n",
        "22. What are some common use cases for Seaborn?\n",
        "   - Exploratory data analysis (EDA), statistical analysis, and visualizing machine learning model performance.\n"
      ],
      "metadata": {
        "id": "14gpG_0uFPVO"
      }
    },
    {
      "cell_type": "markdown",
      "source": [
        "PRACTICAL:"
      ],
      "metadata": {
        "id": "3qpv5ZqZ3GZB"
      }
    },
    {
      "cell_type": "code",
      "source": [
        "# 1. How do you create a 2D NumPy array and calculate the sum of each row?\n",
        "import numpy as np\n",
        "\n",
        "# Create a 2D NumPy array\n",
        "array_2d = np.array([[1, 2, 3],\n",
        "                     [4, 5, 6],\n",
        "                     [7, 8, 9]])\n",
        "\n",
        "# Calculate the sum of each row\n",
        "row_sums = np.sum(array_2d, axis=1)\n",
        "\n",
        "# Print the results\n",
        "print(\"2D Array:\")\n",
        "print(array_2d)\n",
        "print(\"Sum of each row:\")\n",
        "print(row_sums)"
      ],
      "metadata": {
        "id": "ImIO3dm33wJj"
      },
      "execution_count": null,
      "outputs": []
    },
    {
      "cell_type": "code",
      "source": [
        "# 2. Write a Pandas script to find the mean of a specific column in a DataFrame\n",
        "import pandas as pd\n",
        "\n",
        "# Sample data\n",
        "data = {\n",
        "    'Name': ['Alice', 'Bob', 'Charlie', 'David'],\n",
        "    'Age': [25, 30, 35, 40],\n",
        "    'Salary': [50000, 60000, 70000, 80000]\n",
        "}\n",
        "\n",
        "# Create DataFrame\n",
        "df = pd.DataFrame(data)\n",
        "\n",
        "# Specify the column you want to find the mean of\n",
        "column_name = 'Salary'\n",
        "\n",
        "# Calculate the mean\n",
        "mean_value = df[column_name].mean()\n",
        "\n",
        "# Print the result\n",
        "print(f\"Mean of '{column_name}' column:\", mean_value)"
      ],
      "metadata": {
        "id": "a-yMk-7P4X-x"
      },
      "execution_count": null,
      "outputs": []
    },
    {
      "cell_type": "code",
      "source": [
        "# 3. Create a scatter plot using Matplotlib\n",
        "import matplotlib.pyplot as plt\n",
        "\n",
        "# Sample data\n",
        "x = [10, 20, 30, 40, 50]\n",
        "y = [15, 25, 35, 30, 45]\n",
        "\n",
        "# Create scatter plot\n",
        "plt.scatter(x, y, color='blue', marker='o', s=100)  # s is size of points\n",
        "\n",
        "# Add labels and title\n",
        "plt.title(\"Sample Scatter Plot\")\n",
        "plt.xlabel(\"X Axis\")\n",
        "plt.ylabel(\"Y Axis\")\n",
        "\n",
        "# Show grid (optional)\n",
        "plt.grid(True)\n",
        "\n",
        "# Show the plot\n",
        "plt.show()"
      ],
      "metadata": {
        "id": "Bhy7eRF-4vCn"
      },
      "execution_count": null,
      "outputs": []
    },
    {
      "cell_type": "code",
      "source": [
        "# 4. How do you calculate the correlation matrix using Seaborn and visualize it with a heatmap?\n",
        "import pandas as pd\n",
        "import seaborn as sns\n",
        "import matplotlib.pyplot as plt\n",
        "\n",
        "# 1. Create or load your DataFrame\n",
        "# Example data\n",
        "data = {\n",
        "    'A': [1, 2, 3, 4, 5],\n",
        "    'B': [5, 4, 3, 2, 1],\n",
        "    'C': [2, 3, 4, 5, 6]\n",
        "}\n",
        "df = pd.DataFrame(data)\n",
        "\n",
        "# 2. Calculate the correlation matrix\n",
        "corr_matrix = df.corr()\n",
        "\n",
        "# 3. Create the heatmap using Seaborn\n",
        "plt.figure(figsize=(8, 6))\n",
        "sns.heatmap(corr_matrix, annot=True, cmap='coolwarm', linewidths=0.5)\n",
        "\n",
        "# 4. Add a title\n",
        "plt.title(\"Correlation Matrix Heatmap\")\n",
        "\n",
        "# 5. Show the plot\n",
        "plt.show()"
      ],
      "metadata": {
        "id": "Ht0VeLyL5GBH"
      },
      "execution_count": null,
      "outputs": []
    },
    {
      "cell_type": "code",
      "source": [
        "# 5. Generate a bar plot using Plotly.\n",
        "import plotly.express as px\n",
        "import pandas as pd\n",
        "\n",
        "# Sample data\n",
        "data = {\n",
        "    'Category': ['A', 'B', 'C', 'D'],\n",
        "    'Values': [23, 45, 12, 34]\n",
        "}\n",
        "\n",
        "# Create DataFrame\n",
        "df = pd.DataFrame(data)\n",
        "\n",
        "# Create bar plot\n",
        "fig = px.bar(df, x='Category', y='Values', title='Sample Bar Plot', color='Category')\n",
        "\n",
        "# Show plot\n",
        "fig.show()"
      ],
      "metadata": {
        "id": "PCYFaGhv5Gcw"
      },
      "execution_count": null,
      "outputs": []
    },
    {
      "cell_type": "code",
      "source": [
        "# 6. Create a DataFrame and add a new column based on an existing column\n",
        "import pandas as pd\n",
        "\n",
        "# Create a sample DataFrame\n",
        "data = {\n",
        "    'Name': ['Alice', 'Bob', 'Charlie', 'David'],\n",
        "    'Score': [85, 62, 90, 70]\n",
        "}\n",
        "\n",
        "df = pd.DataFrame(data)\n",
        "\n",
        "# Add a new column based on 'Score'\n",
        "# Let's say we want to classify the scores as 'Pass' or 'Fail'\n",
        "df['Result'] = df['Score'].apply(lambda x: 'Pass' if x >= 75 else 'Fail')\n",
        "\n",
        "# Print the updated DataFrame\n",
        "print(df)"
      ],
      "metadata": {
        "id": "6dDYEV8I5Guw"
      },
      "execution_count": null,
      "outputs": []
    },
    {
      "cell_type": "code",
      "source": [
        "# 7. Write a program to perform element-wise multiplication of two NumPy arrays\n",
        "import numpy as np\n",
        "\n",
        "# Create two NumPy arrays\n",
        "array1 = np.array([1, 2, 3, 4])\n",
        "array2 = np.array([10, 20, 30, 40])\n",
        "\n",
        "# Perform element-wise multiplication\n",
        "result = array1 * array2\n",
        "\n",
        "# Print the result\n",
        "print(\"Array 1:\", array1)\n",
        "print(\"Array 2:\", array2)\n",
        "print(\"Element-wise multiplication:\", result)"
      ],
      "metadata": {
        "id": "obTW1rBp5HGQ"
      },
      "execution_count": null,
      "outputs": []
    },
    {
      "cell_type": "code",
      "source": [
        "# 8. Create a line plot with multiple lines using Matplotlib.\n",
        "import matplotlib.pyplot as plt\n",
        "\n",
        "# Sample data\n",
        "x = [0, 1, 2, 3, 4, 5]\n",
        "y1 = [0, 1, 4, 9, 16, 25]   # Line 1: y = x^2\n",
        "y2 = [0, -1, -4, -9, -16, -25]  # Line 2: y = -x^2\n",
        "y3 = [0, 2, 6, 12, 20, 30]   # Line 3: y = 2x^2\n",
        "\n",
        "# Create a figure and axis\n",
        "plt.figure(figsize=(8, 6))\n",
        "\n",
        "# Plot multiple lines\n",
        "plt.plot(x, y1, label='y = x^2', color='blue', marker='o')  # First line\n",
        "plt.plot(x, y2, label='y = -x^2', color='red', marker='x')  # Second line\n",
        "plt.plot(x, y3, label='y = 2x^2', color='green', marker='^')  # Third line\n",
        "\n",
        "# Adding labels and title\n",
        "plt.xlabel('X Axis')\n",
        "plt.ylabel('Y Axis')\n",
        "plt.title('Multiple Line Plot')\n",
        "\n",
        "# Show legend\n",
        "plt.legend()\n",
        "\n",
        "# Show the plot\n",
        "plt.grid(True)\n",
        "plt.show()"
      ],
      "metadata": {
        "id": "P0XzJadJ7LxH"
      },
      "execution_count": null,
      "outputs": []
    },
    {
      "cell_type": "code",
      "source": [
        "# 9. Generate a Pandas DataFrame and filter rows where a column value is greater than a threshold\n",
        "import pandas as pd\n",
        "\n",
        "# Create a sample DataFrame\n",
        "data = {\n",
        "    'Name': ['Alice', 'Bob', 'Charlie', 'David', 'Eve'],\n",
        "    'Age': [23, 35, 45, 30, 50],\n",
        "    'Salary': [50000, 60000, 70000, 65000, 80000]\n",
        "}\n",
        "\n",
        "df = pd.DataFrame(data)\n",
        "\n",
        "# Set the threshold for filtering\n",
        "salary_threshold = 60000\n",
        "\n",
        "# Filter rows where 'Salary' is greater than the threshold\n",
        "filtered_df = df[df['Salary'] > salary_threshold]\n",
        "\n",
        "# Print the filtered DataFrame\n",
        "print(\"Filtered DataFrame (Salary > 60000):\")\n",
        "print(filtered_df)"
      ],
      "metadata": {
        "id": "UtsC8-s97MOQ"
      },
      "execution_count": null,
      "outputs": []
    },
    {
      "cell_type": "code",
      "source": [
        "# 10. Create a histogram using Seaborn to visualize a distribution.\n",
        "import seaborn as sns\n",
        "import matplotlib.pyplot as plt\n",
        "\n",
        "# Sample data\n",
        "data = [23, 45, 56, 78, 45, 67, 89, 90, 45, 34, 67, 89, 56, 45, 23, 34, 56, 78, 90]\n",
        "\n",
        "# Create a seaborn histogram\n",
        "sns.histplot(data, kde=True, bins=10, color='blue')\n",
        "\n",
        "# Add title and labels\n",
        "plt.title('Distribution of Sample Data')\n",
        "plt.xlabel('Value')\n",
        "plt.ylabel('Frequency')\n",
        "\n",
        "# Show the plot\n",
        "plt.show()"
      ],
      "metadata": {
        "id": "WEs53igS7MfI"
      },
      "execution_count": null,
      "outputs": []
    },
    {
      "cell_type": "code",
      "source": [
        "# 11. Perform matrix multiplication using NumPy\n",
        "import numpy as np\n",
        "\n",
        "# Define two matrices\n",
        "matrix1 = np.array([[1, 2],\n",
        "                    [3, 4]])\n",
        "\n",
        "matrix2 = np.array([[5, 6],\n",
        "                    [7, 8]])\n",
        "\n",
        "# Perform matrix multiplication\n",
        "result = np.dot(matrix1, matrix2)\n",
        "\n",
        "# Alternatively, you can use the @ operator\n",
        "# result = matrix1 @ matrix2\n",
        "\n",
        "# Print the result\n",
        "print(\"Matrix 1:\")\n",
        "print(matrix1)\n",
        "print(\"Matrix 2:\")\n",
        "print(matrix2)\n",
        "print(\"Result of matrix multiplication:\")\n",
        "print(result)"
      ],
      "metadata": {
        "id": "P6ieRXtA7M1f"
      },
      "execution_count": null,
      "outputs": []
    },
    {
      "cell_type": "code",
      "source": [
        "# 12. Use Pandas to load a CSV file and display its first 5 rows\n",
        "import pandas as pd\n",
        "\n",
        "# Load the CSV file into a DataFrame\n",
        "df = pd.read_csv('your_file.csv')  # Replace 'your_file.csv' with the actual path\n",
        "\n",
        "# Display the first 5 rows of the DataFrame\n",
        "print(df.head())"
      ],
      "metadata": {
        "id": "j3IxjV-H7NI4"
      },
      "execution_count": null,
      "outputs": []
    },
    {
      "cell_type": "code",
      "source": [
        "# 13. Create a 3D scatter plot using Plotly\n",
        "import plotly.express as px\n",
        "import pandas as pd\n",
        "\n",
        "# Sample data for 3D scatter plot\n",
        "data = {\n",
        "    'X': [1, 2, 3, 4, 5],\n",
        "    'Y': [5, 4, 3, 2, 1],\n",
        "    'Z': [1, 2, 3, 4, 5],\n",
        "    'Category': ['A', 'B', 'C', 'D', 'E']\n",
        "}\n",
        "\n",
        "# Create a DataFrame\n",
        "df = pd.DataFrame(data)\n",
        "\n",
        "# Create 3D scatter plot\n",
        "fig = px.scatter_3d(df, x='X', y='Y', z='Z', color='Category', title=\"3D Scatter Plot\")\n",
        "\n",
        "# Show plot\n",
        "fig.show()"
      ],
      "metadata": {
        "id": "mbmakaOr7NlQ"
      },
      "execution_count": null,
      "outputs": []
    }
  ]
}